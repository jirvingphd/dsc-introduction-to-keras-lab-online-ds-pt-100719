{
 "cells": [
  {
   "cell_type": "markdown",
   "metadata": {},
   "source": [
    "# Keras - Lab\n",
    "- Solution https://github.com/jirvingphd/dsc-introduction-to-keras-lab-online-ds-pt-100719/tree/solution\n",
    "\n",
    "## Introduction\n",
    "\n",
    "In this lab you'll once again build a neural network, but this time you will be using Keras to do a lot of the heavy lifting.\n",
    "\n",
    "\n",
    "## Objectives\n",
    "\n",
    "You will be able to:\n",
    "\n",
    "- Build a neural network using Keras \n",
    "- Evaluate performance of a neural network using Keras "
   ]
  },
  {
   "cell_type": "markdown",
   "metadata": {},
   "source": [
    "## Required Packages\n",
    "\n",
    "We'll start by importing all of the required packages and classes."
   ]
  },
  {
   "cell_type": "code",
   "execution_count": 34,
   "metadata": {
    "ExecuteTime": {
     "end_time": "2020-05-20T04:39:55.094599Z",
     "start_time": "2020-05-20T04:39:55.089463Z"
    }
   },
   "outputs": [],
   "source": [
    "import matplotlib.pyplot as plt\n",
    "import pandas as pd\n",
    "import numpy as np\n",
    "import random\n",
    "from sklearn.model_selection import train_test_split\n",
    "from keras.utils.np_utils import to_categorical\n",
    "\n",
    "from sklearn import preprocessing\n",
    "from keras.preprocessing.text import Tokenizer\n",
    "from keras import models\n",
    "from keras import layers\n",
    "from keras import optimizers"
   ]
  },
  {
   "cell_type": "markdown",
   "metadata": {},
   "source": [
    "## Load the data\n",
    "\n",
    "In this lab you will be classifying bank complaints available in the `'Bank_complaints.csv'` file. "
   ]
  },
  {
   "cell_type": "code",
   "execution_count": 35,
   "metadata": {
    "ExecuteTime": {
     "end_time": "2020-05-20T04:39:55.098889Z",
     "start_time": "2020-05-20T04:39:55.096169Z"
    }
   },
   "outputs": [],
   "source": [
    "from fsds.imports import *"
   ]
  },
  {
   "cell_type": "code",
   "execution_count": 36,
   "metadata": {
    "ExecuteTime": {
     "end_time": "2020-05-20T04:39:55.748363Z",
     "start_time": "2020-05-20T04:39:55.100645Z"
    }
   },
   "outputs": [
    {
     "name": "stdout",
     "output_type": "stream",
     "text": [
      "<class 'pandas.core.frame.DataFrame'>\n",
      "RangeIndex: 60000 entries, 0 to 59999\n",
      "Data columns (total 2 columns):\n",
      "Product                         60000 non-null object\n",
      "Consumer complaint narrative    60000 non-null object\n",
      "dtypes: object(2)\n",
      "memory usage: 937.6+ KB\n"
     ]
    },
    {
     "data": {
      "text/plain": [
       "None"
      ]
     },
     "metadata": {},
     "output_type": "display_data"
    },
    {
     "data": {
      "text/html": [
       "<div>\n",
       "<style scoped>\n",
       "    .dataframe tbody tr th:only-of-type {\n",
       "        vertical-align: middle;\n",
       "    }\n",
       "\n",
       "    .dataframe tbody tr th {\n",
       "        vertical-align: top;\n",
       "    }\n",
       "\n",
       "    .dataframe thead th {\n",
       "        text-align: right;\n",
       "    }\n",
       "</style>\n",
       "<table border=\"1\" class=\"dataframe\">\n",
       "  <thead>\n",
       "    <tr style=\"text-align: right;\">\n",
       "      <th></th>\n",
       "      <th>Product</th>\n",
       "      <th>Consumer complaint narrative</th>\n",
       "    </tr>\n",
       "  </thead>\n",
       "  <tbody>\n",
       "    <tr>\n",
       "      <td>0</td>\n",
       "      <td>Student loan</td>\n",
       "      <td>In XX/XX/XXXX I filled out the Fedlaon applica...</td>\n",
       "    </tr>\n",
       "    <tr>\n",
       "      <td>1</td>\n",
       "      <td>Student loan</td>\n",
       "      <td>I am being contacted by a debt collector for p...</td>\n",
       "    </tr>\n",
       "    <tr>\n",
       "      <td>2</td>\n",
       "      <td>Student loan</td>\n",
       "      <td>I cosigned XXXX student loans at SallieMae for...</td>\n",
       "    </tr>\n",
       "    <tr>\n",
       "      <td>3</td>\n",
       "      <td>Student loan</td>\n",
       "      <td>Navient has sytematically and illegally failed...</td>\n",
       "    </tr>\n",
       "    <tr>\n",
       "      <td>4</td>\n",
       "      <td>Student loan</td>\n",
       "      <td>My wife became eligible for XXXX Loan Forgiven...</td>\n",
       "    </tr>\n",
       "  </tbody>\n",
       "</table>\n",
       "</div>"
      ],
      "text/plain": [
       "        Product                       Consumer complaint narrative\n",
       "0  Student loan  In XX/XX/XXXX I filled out the Fedlaon applica...\n",
       "1  Student loan  I am being contacted by a debt collector for p...\n",
       "2  Student loan  I cosigned XXXX student loans at SallieMae for...\n",
       "3  Student loan  Navient has sytematically and illegally failed...\n",
       "4  Student loan  My wife became eligible for XXXX Loan Forgiven..."
      ]
     },
     "execution_count": 36,
     "metadata": {},
     "output_type": "execute_result"
    }
   ],
   "source": [
    "# Import data\n",
    "df = pd.read_csv('Bank_complaints.csv')\n",
    "\n",
    "# Inspect data\n",
    "display(df.info())\n",
    "df.head()"
   ]
  },
  {
   "cell_type": "markdown",
   "metadata": {},
   "source": [
    "As mentioned earlier, your task is to categorize banking complaints into various predefined categories. Preview what these categories are and what percent of the complaints each accounts for. "
   ]
  },
  {
   "cell_type": "code",
   "execution_count": 37,
   "metadata": {
    "ExecuteTime": {
     "end_time": "2020-05-20T04:39:55.761200Z",
     "start_time": "2020-05-20T04:39:55.749885Z"
    }
   },
   "outputs": [
    {
     "data": {
      "text/plain": [
       "Student loan                   0.190067\n",
       "Credit card                    0.159000\n",
       "Consumer Loan                  0.157900\n",
       "Mortgage                       0.138867\n",
       "Bank account or service        0.138483\n",
       "Credit reporting               0.114400\n",
       "Checking or savings account    0.101283\n",
       "Name: Product, dtype: float64"
      ]
     },
     "execution_count": 37,
     "metadata": {},
     "output_type": "execute_result"
    }
   ],
   "source": [
    "# Your code here\n",
    "df['Product'].value_counts(1)"
   ]
  },
  {
   "cell_type": "markdown",
   "metadata": {},
   "source": [
    "## Preprocessing\n",
    "\n",
    "Before we build our neural network, we need to do several preprocessing steps. First, we will create word vector counts (a bag of words type representation) of our complaints text. Next, we will change the category labels to integers. Finally, we will perform our usual train-test split before building and training our neural network using Keras. With that, let's start munging our data! \n",
    "\n",
    "## One-hot encoding of the complaints\n",
    "\n",
    "Our first step again is to transform our textual data into a numerical representation. As we saw in some of our previous lessons on NLP, there are many ways to do this. Here, we'll use the `Tokenizer()` class from the `preprocessing.text` sub-module of the Keras package.   \n",
    "\n",
    "As with our previous work using NLTK, this will transform our text complaints into word vectors. (Note that the method of creating a vector is different from our previous work with NLTK; as you'll see, word order will be preserved as opposed to a bag of words representation). In the below code, we'll only keep the 2,000 most common words and use one-hot encoding. \n",
    "\n"
   ]
  },
  {
   "cell_type": "code",
   "execution_count": 38,
   "metadata": {
    "ExecuteTime": {
     "end_time": "2020-05-20T04:39:55.769830Z",
     "start_time": "2020-05-20T04:39:55.762498Z"
    }
   },
   "outputs": [],
   "source": [
    "# As a quick preliminary, briefly review the docstring for keras.preprocessing.text.Tokenizer\n",
    "Tokenizer?"
   ]
  },
  {
   "cell_type": "code",
   "execution_count": 39,
   "metadata": {
    "ExecuteTime": {
     "end_time": "2020-05-20T04:39:55.775517Z",
     "start_time": "2020-05-20T04:39:55.771261Z"
    }
   },
   "outputs": [
    {
     "data": {
      "text/plain": [
       "0    In XX/XX/XXXX I filled out the Fedlaon applica...\n",
       "1    I am being contacted by a debt collector for p...\n",
       "2    I cosigned XXXX student loans at SallieMae for...\n",
       "3    Navient has sytematically and illegally failed...\n",
       "4    My wife became eligible for XXXX Loan Forgiven...\n",
       "Name: Consumer complaint narrative, dtype: object"
      ]
     },
     "execution_count": 39,
     "metadata": {},
     "output_type": "execute_result"
    }
   ],
   "source": [
    "complaints = df['Consumer complaint narrative']\n",
    "complaints.head()"
   ]
  },
  {
   "cell_type": "code",
   "execution_count": 40,
   "metadata": {
    "ExecuteTime": {
     "end_time": "2020-05-20T04:39:55.781088Z",
     "start_time": "2020-05-20T04:39:55.777420Z"
    }
   },
   "outputs": [],
   "source": [
    "from nltk.corpus import stopwords\n",
    "stopwords_list = stopwords.words('english')\n"
   ]
  },
  {
   "cell_type": "code",
   "execution_count": 41,
   "metadata": {
    "ExecuteTime": {
     "end_time": "2020-05-20T04:39:55.786241Z",
     "start_time": "2020-05-20T04:39:55.782636Z"
    }
   },
   "outputs": [
    {
     "data": {
      "text/plain": [
       "<keras_preprocessing.text.Tokenizer at 0x1a3efdde48>"
      ]
     },
     "execution_count": 41,
     "metadata": {},
     "output_type": "execute_result"
    }
   ],
   "source": [
    "from keras.preprocessing.text import Tokenizer\n",
    "\n",
    "tokenizer = Tokenizer(num_words=2000)\n",
    "tokenizer"
   ]
  },
  {
   "cell_type": "code",
   "execution_count": 42,
   "metadata": {
    "ExecuteTime": {
     "end_time": "2020-05-20T04:40:02.558025Z",
     "start_time": "2020-05-20T04:39:55.787375Z"
    }
   },
   "outputs": [],
   "source": [
    "tokenizer.fit_on_texts(complaints)"
   ]
  },
  {
   "cell_type": "code",
   "execution_count": 43,
   "metadata": {
    "ExecuteTime": {
     "end_time": "2020-05-20T04:40:08.090417Z",
     "start_time": "2020-05-20T04:40:02.559321Z"
    }
   },
   "outputs": [],
   "source": [
    "sequences = tokenizer.texts_to_sequences(complaints)"
   ]
  },
  {
   "cell_type": "code",
   "execution_count": 44,
   "metadata": {
    "ExecuteTime": {
     "end_time": "2020-05-20T04:40:17.870327Z",
     "start_time": "2020-05-20T04:40:08.091651Z"
    }
   },
   "outputs": [],
   "source": [
    "one_hot_results = tokenizer.texts_to_matrix(complaints, mode='binary')"
   ]
  },
  {
   "cell_type": "code",
   "execution_count": 45,
   "metadata": {
    "ExecuteTime": {
     "end_time": "2020-05-20T04:40:17.876326Z",
     "start_time": "2020-05-20T04:40:17.871598Z"
    }
   },
   "outputs": [
    {
     "name": "stdout",
     "output_type": "stream",
     "text": [
      "Found 50110 unique tokens.\n",
      "Dimensions of our coded results: (60000, 2000)\n"
     ]
    }
   ],
   "source": [
    "word_index = tokenizer.word_index \n",
    "\n",
    "# Tokens are the number of unique words across the corpus\n",
    "print('Found %s unique tokens.' % len(word_index)) \n",
    "\n",
    "# Our coded data\n",
    "print('Dimensions of our coded results:', np.shape(one_hot_results)) "
   ]
  },
  {
   "cell_type": "code",
   "execution_count": 46,
   "metadata": {
    "ExecuteTime": {
     "end_time": "2020-05-20T04:40:17.880585Z",
     "start_time": "2020-05-20T04:40:17.878242Z"
    }
   },
   "outputs": [],
   "source": [
    "# # ⏰ This cell may take about thirty seconds to run\n",
    "\n",
    "# # Raw text complaints\n",
    "# complaints = df['Consumer complaint narrative'] \n",
    "\n",
    "# # Initialize a tokenizer \n",
    "# tokenizer = Tokenizer(num_words=2000) \n",
    "\n",
    "# # Fit it to the complaints\n",
    "# tokenizer.fit_on_texts(complaints) \n",
    "\n",
    "# # Generate sequences\n",
    "# sequences = tokenizer.texts_to_sequences(complaints) \n",
    "# print('sequences type:', type(sequences))\n",
    "\n",
    "# # Similar to sequences, but returns a numpy array\n",
    "# one_hot_results= tokenizer.texts_to_matrix(complaints, mode='binary') \n",
    "# print('one_hot_results type:', type(one_hot_results))\n",
    "\n",
    "# # Useful if we wish to decode (more explanation below)\n",
    "# word_index = tokenizer.word_index \n",
    "\n",
    "# # Tokens are the number of unique words across the corpus\n",
    "# print('Found %s unique tokens.' % len(word_index)) \n",
    "\n",
    "# # Our coded data\n",
    "# print('Dimensions of our coded results:', np.shape(one_hot_results)) "
   ]
  },
  {
   "cell_type": "markdown",
   "metadata": {},
   "source": [
    "## Decoding Word Vectors \n",
    "\n",
    "As a note, you can also decode these vectorized representations of the reviews. The `word_index` variable, defined above, stores the mapping from the label number to the actual word. Somewhat tediously, we can turn this dictionary inside out and map it back to our word vectors, giving us roughly the original complaint back. (As you'll see, the text won't be identical as we limited ourselves to top 2000 words.)\n",
    "\n",
    "## Python Review / Mini Challenge\n",
    "\n",
    "While a bit tangential to our main topic of interest, we need to reverse our current dictionary `word_index` which maps words from our corpus to integers. In decoding our `one_hot_results`, we will need to create a dictionary of these integers to the original words. Below, take the `word_index` dictionary object and change the orientation so that the values are keys and the keys values. In other words, you are transforming something of the form {A:1, B:2, C:3} to {1:A, 2:B, 3:C}. "
   ]
  },
  {
   "cell_type": "code",
   "execution_count": 47,
   "metadata": {
    "ExecuteTime": {
     "end_time": "2020-05-20T04:40:17.899045Z",
     "start_time": "2020-05-20T04:40:17.882429Z"
    }
   },
   "outputs": [],
   "source": [
    "# Your code here\n",
    "reverse_index = {v:k for k,v in word_index.items()}\n"
   ]
  },
  {
   "cell_type": "markdown",
   "metadata": {},
   "source": [
    "## Back to Decoding Our Word Vectors..."
   ]
  },
  {
   "cell_type": "code",
   "execution_count": 48,
   "metadata": {
    "ExecuteTime": {
     "end_time": "2020-05-20T04:40:17.910425Z",
     "start_time": "2020-05-20T04:40:17.900456Z"
    }
   },
   "outputs": [
    {
     "name": "stdout",
     "output_type": "stream",
     "text": [
      "Original complaint text:\n",
      "I have already filed several complaints about AES/PHEAA. I was notified by a XXXX XXXX let @ XXXX, who pretended to be from your office, he said he was from CFPB. I found out this morning he is n't from your office, but is actually works at XXXX. \n",
      "\n",
      "This has wasted weeks of my time. They AES/PHEAA confirmed and admitted ( see attached transcript of XXXX, conversation at XXXX ( XXXX ) with XXXX that proves they verified the loans are not mine ) the student loans they had XXXX, and collected on, and reported negate credit reporting in my name are in fact, not mine. \n",
      "They conclued their investigation on XXXX admitting they made a mistake and have my name on soneone elses loans. I these XXXX loans total {$10000.00}, original amount. My XXXX loans I got was total {$3500.00}. We proved by providing AES/PHEAA, this with my original promissary notes I located recently, the XXXX of my college provided AES/PHEAA with their original shoeinf amounts of my XXXX loans which show different dates and amounts, the dates and amounts are not even close to matching these loans they have in my name, The original lender, XXXX XXXX Bank notifying AES/PHEAA, they never issued me a student loan, and original Loan Guarantor, XXXX, notifying AES/PHEAA, they never were guarantor of my loans. \n",
      "\n",
      "XXXX straight forward. But today, this person, XXXX XXXX, told me they know these loans are not mine, and they refuse to remove my name off these XXXX loan 's and correct their mistake, essentially forcing me to pay these loans off, bucause in XXXX they sold the loans to XXXX loans. \n",
      "\n",
      "This is absurd, first protruding to be this office, and then refusing to correct their mistake. \n",
      "\n",
      "Please for the love of XXXX will soneone from your office call me at XXXX, today. I am a XXXX vet and they are knowingly discriminating against me. \n",
      "Pretending to be you.\n",
      "\n",
      "\n",
      "\n",
      "Decoded review from Tokenizer:\n",
      "i have already filed several complaints about aes i was notified by a xxxx xxxx let xxxx who to be from your office he said he was from cfpb i found out this morning he is n't from your office but is actually works at xxxx this has weeks of my time they aes confirmed and admitted see attached of xxxx conversation at xxxx xxxx with xxxx that they verified the loans are not mine the student loans they had xxxx and on and reported credit reporting in my name are in fact not mine they their investigation on xxxx they made a mistake and have my name on loans i these xxxx loans total 10000 00 original amount my xxxx loans i got was total 00 we by providing aes this with my original notes i located recently the xxxx of my college provided aes with their original amounts of my xxxx loans which show different dates and amounts the dates and amounts are not even close to these loans they have in my name the original lender xxxx xxxx bank notifying aes they never issued me a student loan and original loan xxxx notifying aes they never were of my loans xxxx forward but today this person xxxx xxxx told me they know these loans are not mine and they refuse to remove my name off these xxxx loan 's and correct their mistake essentially me to pay these loans off in xxxx they sold the loans to xxxx loans this is first to be this office and then refusing to correct their mistake please for the of xxxx will from your office call me at xxxx today i am a xxxx and they are against me to be you\n"
     ]
    }
   ],
   "source": [
    "comment_idx_to_preview = 19\n",
    "print('Original complaint text:')\n",
    "print(complaints[comment_idx_to_preview])\n",
    "print('\\n\\n')\n",
    "\n",
    "# The reverse_index cell block above must be complete in order for this cell block to successively execute \n",
    "decoded_review = ' '.join([reverse_index.get(i) for i in sequences[comment_idx_to_preview]])\n",
    "print('Decoded review from Tokenizer:')\n",
    "print(decoded_review)"
   ]
  },
  {
   "cell_type": "markdown",
   "metadata": {},
   "source": [
    "## Convert the Products to Numerical Categories\n",
    "\n",
    "On to step two of our preprocessing: converting our descriptive categories into integers."
   ]
  },
  {
   "cell_type": "code",
   "execution_count": 49,
   "metadata": {
    "ExecuteTime": {
     "end_time": "2020-05-20T04:40:17.929119Z",
     "start_time": "2020-05-20T04:40:17.911793Z"
    }
   },
   "outputs": [
    {
     "name": "stdout",
     "output_type": "stream",
     "text": [
      "Original class labels:\n",
      "['Bank account or service', 'Checking or savings account', 'Consumer Loan', 'Credit card', 'Credit reporting', 'Mortgage', 'Student loan']\n",
      "\n",
      "\n"
     ]
    }
   ],
   "source": [
    "product = df['Product']\n",
    "\n",
    "# Initialize\n",
    "le = preprocessing.LabelEncoder() \n",
    "le.fit(product)\n",
    "print('Original class labels:')\n",
    "print(list(le.classes_))\n",
    "print('\\n')\n",
    "product_cat = le.transform(product)  "
   ]
  },
  {
   "cell_type": "code",
   "execution_count": 50,
   "metadata": {
    "ExecuteTime": {
     "end_time": "2020-05-20T04:40:17.943174Z",
     "start_time": "2020-05-20T04:40:17.933625Z"
    }
   },
   "outputs": [
    {
     "name": "stdout",
     "output_type": "stream",
     "text": [
      "New product labels:\n",
      "[6 6 6 ... 4 4 4]\n",
      "\n",
      "\n",
      "One hot labels; 7 binary columns, one for each of the categories.\n",
      "[[0. 0. 0. ... 0. 0. 1.]\n",
      " [0. 0. 0. ... 0. 0. 1.]\n",
      " [0. 0. 0. ... 0. 0. 1.]\n",
      " ...\n",
      " [0. 0. 0. ... 1. 0. 0.]\n",
      " [0. 0. 0. ... 1. 0. 0.]\n",
      " [0. 0. 0. ... 1. 0. 0.]]\n",
      "\n",
      "\n",
      "One hot labels shape:\n",
      "(60000, 7)\n"
     ]
    }
   ],
   "source": [
    "# If you wish to retrieve the original descriptive labels post production\n",
    "# list(le.inverse_transform([0, 1, 3, 3, 0, 6, 4])) \n",
    "\n",
    "print('New product labels:')\n",
    "print(product_cat)\n",
    "print('\\n')\n",
    "\n",
    "# Each row will be all zeros except for the category for that observation \n",
    "print('One hot labels; 7 binary columns, one for each of the categories.') \n",
    "product_onehot = to_categorical(product_cat)\n",
    "print(product_onehot)\n",
    "print('\\n')\n",
    "\n",
    "print('One hot labels shape:')\n",
    "print(np.shape(product_onehot))"
   ]
  },
  {
   "cell_type": "markdown",
   "metadata": {},
   "source": [
    "## Train-test split\n",
    "\n",
    "Now for our final preprocessing step: the usual train-test split. "
   ]
  },
  {
   "cell_type": "code",
   "execution_count": 51,
   "metadata": {
    "ExecuteTime": {
     "end_time": "2020-05-20T04:40:18.648836Z",
     "start_time": "2020-05-20T04:40:17.945993Z"
    }
   },
   "outputs": [
    {
     "name": "stdout",
     "output_type": "stream",
     "text": [
      "Test label shape: (1500, 7)\n",
      "Train label shape: (58500, 7)\n",
      "Test shape: (1500, 2000)\n",
      "Train shape: (58500, 2000)\n"
     ]
    }
   ],
   "source": [
    "random.seed(123)\n",
    "test_index = random.sample(range(1,10000), 1500)\n",
    "\n",
    "test = one_hot_results[test_index]\n",
    "train = np.delete(one_hot_results, test_index, 0)\n",
    "\n",
    "label_test = product_onehot[test_index]\n",
    "label_train = np.delete(product_onehot, test_index, 0)\n",
    "\n",
    "print('Test label shape:', np.shape(label_test))\n",
    "print('Train label shape:', np.shape(label_train))\n",
    "print('Test shape:', np.shape(test))\n",
    "print('Train shape:', np.shape(train))"
   ]
  },
  {
   "cell_type": "markdown",
   "metadata": {},
   "source": [
    "## Building the network\n",
    "\n",
    "Let's build a fully connected (Dense) layer network with relu activation in Keras. You can do this using: `Dense(16, activation='relu')`. \n",
    "\n",
    "In this example, use two hidden layers with 50 units in the first layer and 25 in the second, both with a `'relu'` activation function. Because we are dealing with a multiclass problem (classifying the complaints into 7 categories), we use a use a `'softmax'` classifier in order to output 7 class probabilities per case.  "
   ]
  },
  {
   "cell_type": "code",
   "execution_count": 52,
   "metadata": {
    "ExecuteTime": {
     "end_time": "2020-05-20T04:40:18.653218Z",
     "start_time": "2020-05-20T04:40:18.650116Z"
    }
   },
   "outputs": [
    {
     "data": {
      "text/plain": [
       "7"
      ]
     },
     "execution_count": 52,
     "metadata": {},
     "output_type": "execute_result"
    }
   ],
   "source": [
    "import numpy as np\n",
    "label_train.shape[1]"
   ]
  },
  {
   "cell_type": "code",
   "execution_count": 73,
   "metadata": {
    "ExecuteTime": {
     "end_time": "2020-05-20T04:48:20.376712Z",
     "start_time": "2020-05-20T04:48:20.372563Z"
    }
   },
   "outputs": [],
   "source": [
    "from keras.models import Sequential\n",
    "from keras.layers import Dense\n",
    "# Initialize a sequential model\n",
    "model = Sequential()\n",
    "\n",
    "# Two layers with relu activation\n",
    "# model.add(Dense(50,activation='relu'))\n",
    "model.add(Dense(25,activation='relu'))\n",
    "model.add(Dense(7, activation='softmax'))\n",
    "\n",
    "# One layer with softmax activation \n"
   ]
  },
  {
   "cell_type": "markdown",
   "metadata": {},
   "source": [
    "## Compiling the model\n",
    "\n",
    "Now, compile the model! This time, use `'categorical_crossentropy'` as the loss function and stochastic gradient descent, `'SGD'` as the optimizer. As in the previous lesson, include the accuracy as a metric."
   ]
  },
  {
   "cell_type": "code",
   "execution_count": 74,
   "metadata": {
    "ExecuteTime": {
     "end_time": "2020-05-20T04:48:20.800795Z",
     "start_time": "2020-05-20T04:48:20.783180Z"
    }
   },
   "outputs": [],
   "source": [
    "# Compile the model\n",
    "model.compile('sgd',loss='categorical_crossentropy',metrics=['acc'])"
   ]
  },
  {
   "cell_type": "markdown",
   "metadata": {},
   "source": [
    "## Training the model\n",
    "\n",
    "In the compiler, you'll be passing the optimizer (SGD = stochastic gradient descent), loss function, and metrics. Train the model for 120 epochs in mini-batches of 256 samples.\n",
    "\n",
    "_Note:_ ⏰ _Your code may take about one to two minutes to run._"
   ]
  },
  {
   "cell_type": "code",
   "execution_count": 75,
   "metadata": {
    "ExecuteTime": {
     "end_time": "2020-05-20T04:48:56.989199Z",
     "start_time": "2020-05-20T04:48:21.055094Z"
    },
    "scrolled": true
   },
   "outputs": [
    {
     "name": "stdout",
     "output_type": "stream",
     "text": [
      "Train on 52650 samples, validate on 5850 samples\n",
      "Epoch 1/60\n",
      "52650/52650 [==============================] - 1s 13us/step - loss: 1.8062 - acc: 0.2745 - val_loss: 2.9481 - val_acc: 0.0000e+00\n",
      "Epoch 2/60\n",
      "52650/52650 [==============================] - 1s 10us/step - loss: 1.5211 - acc: 0.5018 - val_loss: 3.3822 - val_acc: 0.0000e+00\n",
      "Epoch 3/60\n",
      "52650/52650 [==============================] - 1s 11us/step - loss: 1.2584 - acc: 0.6377 - val_loss: 3.4737 - val_acc: 0.0000e+00\n",
      "Epoch 4/60\n",
      "52650/52650 [==============================] - 1s 11us/step - loss: 1.0637 - acc: 0.6927 - val_loss: 3.4433 - val_acc: 0.0000e+00\n",
      "Epoch 5/60\n",
      "52650/52650 [==============================] - 1s 10us/step - loss: 0.9318 - acc: 0.7191 - val_loss: 3.3421 - val_acc: 0.0000e+00\n",
      "Epoch 6/60\n",
      "52650/52650 [==============================] - 1s 10us/step - loss: 0.8428 - acc: 0.7343 - val_loss: 3.2020 - val_acc: 0.0000e+00\n",
      "Epoch 7/60\n",
      "52650/52650 [==============================] - 1s 10us/step - loss: 0.7809 - acc: 0.7453 - val_loss: 3.0580 - val_acc: 0.0000e+00\n",
      "Epoch 8/60\n",
      "52650/52650 [==============================] - 1s 10us/step - loss: 0.7365 - acc: 0.7537 - val_loss: 2.9200 - val_acc: 0.0000e+00\n",
      "Epoch 9/60\n",
      "52650/52650 [==============================] - 1s 11us/step - loss: 0.7031 - acc: 0.7612 - val_loss: 2.8135 - val_acc: 0.0000e+00\n",
      "Epoch 10/60\n",
      "52650/52650 [==============================] - 1s 11us/step - loss: 0.6770 - acc: 0.7662 - val_loss: 2.7006 - val_acc: 0.0000e+00\n",
      "Epoch 11/60\n",
      "52650/52650 [==============================] - 1s 11us/step - loss: 0.6559 - acc: 0.7711 - val_loss: 2.6157 - val_acc: 8.5470e-04\n",
      "Epoch 12/60\n",
      "52650/52650 [==============================] - 1s 11us/step - loss: 0.6383 - acc: 0.7745 - val_loss: 2.5231 - val_acc: 0.0038\n",
      "Epoch 13/60\n",
      "52650/52650 [==============================] - 1s 11us/step - loss: 0.6235 - acc: 0.7791 - val_loss: 2.4351 - val_acc: 0.0113\n",
      "Epoch 14/60\n",
      "52650/52650 [==============================] - 1s 11us/step - loss: 0.6104 - acc: 0.7828 - val_loss: 2.3642 - val_acc: 0.0209\n",
      "Epoch 15/60\n",
      "52650/52650 [==============================] - 1s 11us/step - loss: 0.5991 - acc: 0.7863 - val_loss: 2.3201 - val_acc: 0.0475\n",
      "Epoch 16/60\n",
      "52650/52650 [==============================] - 1s 11us/step - loss: 0.5889 - acc: 0.7898 - val_loss: 2.2257 - val_acc: 0.0696\n",
      "Epoch 17/60\n",
      "52650/52650 [==============================] - 1s 11us/step - loss: 0.5799 - acc: 0.7930 - val_loss: 2.1992 - val_acc: 0.0817\n",
      "Epoch 18/60\n",
      "52650/52650 [==============================] - 1s 11us/step - loss: 0.5716 - acc: 0.7953 - val_loss: 2.1610 - val_acc: 0.1024\n",
      "Epoch 19/60\n",
      "52650/52650 [==============================] - 1s 10us/step - loss: 0.5640 - acc: 0.7987 - val_loss: 2.0931 - val_acc: 0.1359\n",
      "Epoch 20/60\n",
      "52650/52650 [==============================] - 1s 11us/step - loss: 0.5570 - acc: 0.8006 - val_loss: 2.0731 - val_acc: 0.1496\n",
      "Epoch 21/60\n",
      "52650/52650 [==============================] - 1s 11us/step - loss: 0.5507 - acc: 0.8030 - val_loss: 2.0246 - val_acc: 0.1769\n",
      "Epoch 22/60\n",
      "52650/52650 [==============================] - 1s 11us/step - loss: 0.5446 - acc: 0.8060 - val_loss: 1.9804 - val_acc: 0.2058\n",
      "Epoch 23/60\n",
      "52650/52650 [==============================] - 1s 11us/step - loss: 0.5391 - acc: 0.8067 - val_loss: 1.9311 - val_acc: 0.2405\n",
      "Epoch 24/60\n",
      "52650/52650 [==============================] - 1s 11us/step - loss: 0.5338 - acc: 0.8098 - val_loss: 1.9150 - val_acc: 0.2468\n",
      "Epoch 25/60\n",
      "52650/52650 [==============================] - 1s 11us/step - loss: 0.5289 - acc: 0.8115 - val_loss: 1.8553 - val_acc: 0.2826\n",
      "Epoch 26/60\n",
      "52650/52650 [==============================] - 1s 11us/step - loss: 0.5241 - acc: 0.8129 - val_loss: 1.8450 - val_acc: 0.2928\n",
      "Epoch 27/60\n",
      "52650/52650 [==============================] - 1s 11us/step - loss: 0.5198 - acc: 0.8147 - val_loss: 1.8350 - val_acc: 0.3022\n",
      "Epoch 28/60\n",
      "52650/52650 [==============================] - 1s 11us/step - loss: 0.5157 - acc: 0.8163 - val_loss: 1.8159 - val_acc: 0.3166\n",
      "Epoch 29/60\n",
      "52650/52650 [==============================] - 1s 11us/step - loss: 0.5117 - acc: 0.8173 - val_loss: 1.8060 - val_acc: 0.3224\n",
      "Epoch 30/60\n",
      "52650/52650 [==============================] - 1s 11us/step - loss: 0.5078 - acc: 0.8197 - val_loss: 1.8060 - val_acc: 0.3393\n",
      "Epoch 31/60\n",
      "52650/52650 [==============================] - 1s 11us/step - loss: 0.5044 - acc: 0.8200 - val_loss: 1.7501 - val_acc: 0.3636\n",
      "Epoch 32/60\n",
      "52650/52650 [==============================] - 1s 13us/step - loss: 0.5010 - acc: 0.8222 - val_loss: 1.7155 - val_acc: 0.3860\n",
      "Epoch 33/60\n",
      "52650/52650 [==============================] - 1s 12us/step - loss: 0.4977 - acc: 0.8236 - val_loss: 1.7295 - val_acc: 0.3824\n",
      "Epoch 34/60\n",
      "52650/52650 [==============================] - 1s 11us/step - loss: 0.4945 - acc: 0.8247 - val_loss: 1.6872 - val_acc: 0.4046\n",
      "Epoch 35/60\n",
      "52650/52650 [==============================] - 1s 11us/step - loss: 0.4915 - acc: 0.8251 - val_loss: 1.7114 - val_acc: 0.4014\n",
      "Epoch 36/60\n",
      "52650/52650 [==============================] - 1s 11us/step - loss: 0.4886 - acc: 0.8269 - val_loss: 1.6679 - val_acc: 0.4159\n",
      "Epoch 37/60\n",
      "52650/52650 [==============================] - 1s 10us/step - loss: 0.4858 - acc: 0.8272 - val_loss: 1.6441 - val_acc: 0.4248\n",
      "Epoch 38/60\n",
      "52650/52650 [==============================] - 1s 10us/step - loss: 0.4831 - acc: 0.8283 - val_loss: 1.6289 - val_acc: 0.4405\n",
      "Epoch 39/60\n",
      "52650/52650 [==============================] - 1s 11us/step - loss: 0.4807 - acc: 0.8286 - val_loss: 1.6587 - val_acc: 0.4263\n",
      "Epoch 40/60\n",
      "52650/52650 [==============================] - 1s 11us/step - loss: 0.4781 - acc: 0.8311 - val_loss: 1.6417 - val_acc: 0.4349\n",
      "Epoch 41/60\n",
      "52650/52650 [==============================] - 1s 11us/step - loss: 0.4756 - acc: 0.8308 - val_loss: 1.5973 - val_acc: 0.4574\n",
      "Epoch 42/60\n",
      "52650/52650 [==============================] - 1s 11us/step - loss: 0.4732 - acc: 0.8318 - val_loss: 1.6064 - val_acc: 0.4566\n",
      "Epoch 43/60\n",
      "52650/52650 [==============================] - 1s 11us/step - loss: 0.4710 - acc: 0.8324 - val_loss: 1.6100 - val_acc: 0.4501\n",
      "Epoch 44/60\n",
      "52650/52650 [==============================] - 1s 12us/step - loss: 0.4688 - acc: 0.8340 - val_loss: 1.5736 - val_acc: 0.4689\n",
      "Epoch 45/60\n",
      "52650/52650 [==============================] - 1s 14us/step - loss: 0.4665 - acc: 0.8343 - val_loss: 1.5549 - val_acc: 0.4781\n",
      "Epoch 46/60\n",
      "52650/52650 [==============================] - 1s 10us/step - loss: 0.4646 - acc: 0.8345 - val_loss: 1.5336 - val_acc: 0.4860\n",
      "Epoch 47/60\n",
      "52650/52650 [==============================] - 1s 11us/step - loss: 0.4626 - acc: 0.8356 - val_loss: 1.5379 - val_acc: 0.4860\n",
      "Epoch 48/60\n",
      "52650/52650 [==============================] - 1s 10us/step - loss: 0.4605 - acc: 0.8355 - val_loss: 1.5432 - val_acc: 0.4865\n",
      "Epoch 49/60\n",
      "52650/52650 [==============================] - 1s 12us/step - loss: 0.4587 - acc: 0.8369 - val_loss: 1.5559 - val_acc: 0.4821\n",
      "Epoch 50/60\n",
      "52650/52650 [==============================] - 1s 11us/step - loss: 0.4569 - acc: 0.8374 - val_loss: 1.5445 - val_acc: 0.4855\n",
      "Epoch 51/60\n",
      "52650/52650 [==============================] - 1s 12us/step - loss: 0.4550 - acc: 0.8383 - val_loss: 1.5131 - val_acc: 0.5003\n",
      "Epoch 52/60\n",
      "52650/52650 [==============================] - 1s 10us/step - loss: 0.4532 - acc: 0.8387 - val_loss: 1.5235 - val_acc: 0.4974\n",
      "Epoch 53/60\n",
      "52650/52650 [==============================] - 1s 11us/step - loss: 0.4516 - acc: 0.8393 - val_loss: 1.5159 - val_acc: 0.5012\n",
      "Epoch 54/60\n",
      "52650/52650 [==============================] - 1s 12us/step - loss: 0.4498 - acc: 0.8404 - val_loss: 1.4845 - val_acc: 0.5116\n",
      "Epoch 55/60\n",
      "52650/52650 [==============================] - 1s 12us/step - loss: 0.4481 - acc: 0.8404 - val_loss: 1.4879 - val_acc: 0.5128\n",
      "Epoch 56/60\n",
      "52650/52650 [==============================] - 1s 12us/step - loss: 0.4465 - acc: 0.8406 - val_loss: 1.4927 - val_acc: 0.5147\n",
      "Epoch 57/60\n",
      "52650/52650 [==============================] - 1s 14us/step - loss: 0.4450 - acc: 0.8421 - val_loss: 1.4798 - val_acc: 0.5154\n",
      "Epoch 58/60\n",
      "52650/52650 [==============================] - 1s 16us/step - loss: 0.4435 - acc: 0.8415 - val_loss: 1.5052 - val_acc: 0.5113\n",
      "Epoch 59/60\n",
      "52650/52650 [==============================] - 1s 16us/step - loss: 0.4420 - acc: 0.8434 - val_loss: 1.4769 - val_acc: 0.5197\n"
     ]
    },
    {
     "name": "stdout",
     "output_type": "stream",
     "text": [
      "Epoch 60/60\n",
      "52650/52650 [==============================] - 1s 12us/step - loss: 0.4405 - acc: 0.8440 - val_loss: 1.4728 - val_acc: 0.5219\n"
     ]
    }
   ],
   "source": [
    "# Train the model \n",
    "history = model.fit(train,label_train,epochs=60,batch_size=256,validation_split=0.1)"
   ]
  },
  {
   "cell_type": "markdown",
   "metadata": {},
   "source": [
    "Recall that the dictionary `history` has two entries: the loss and the accuracy achieved using the training set."
   ]
  },
  {
   "cell_type": "code",
   "execution_count": 78,
   "metadata": {
    "ExecuteTime": {
     "end_time": "2020-05-20T04:49:19.770331Z",
     "start_time": "2020-05-20T04:49:19.766948Z"
    }
   },
   "outputs": [
    {
     "data": {
      "text/plain": [
       "dict_keys(['val_loss', 'val_acc', 'loss', 'acc'])"
      ]
     },
     "execution_count": 78,
     "metadata": {},
     "output_type": "execute_result"
    }
   ],
   "source": [
    "history_dict = history.history\n",
    "history_dict.keys()"
   ]
  },
  {
   "cell_type": "markdown",
   "metadata": {},
   "source": [
    "## Plot the results\n",
    "\n",
    "As you might expect, we'll use our `matplotlib` for graphing. Use the data stored in the `history_dict` above to plot the loss vs epochs and the accuracy vs epochs. "
   ]
  },
  {
   "cell_type": "code",
   "execution_count": 95,
   "metadata": {
    "ExecuteTime": {
     "end_time": "2020-05-20T04:53:04.555051Z",
     "start_time": "2020-05-20T04:53:04.409116Z"
    }
   },
   "outputs": [
    {
     "data": {
      "image/png": "[encoded data removed]",
      "text/plain": [
       "<Figure size 432x288 with 1 Axes>"
      ]
     },
     "metadata": {
      "needs_background": "light"
     },
     "output_type": "display_data"
    }
   ],
   "source": [
    "# Plot the loss vs the number of epoch\n",
    "import matplotlib as mpl\n",
    "ax = pd.DataFrame(history_dict)[['acc','val_acc']].plot()\n",
    "ax.set(xlabel='Epoch #',ylabel='Accuracy')\n",
    "ax.xaxis.set_major_locator(mpl.ticker.MultipleLocator(5))"
   ]
  },
  {
   "cell_type": "code",
   "execution_count": null,
   "metadata": {
    "ExecuteTime": {
     "end_time": "2020-05-20T04:52:41.714734Z",
     "start_time": "2020-05-20T04:52:41.646Z"
    }
   },
   "outputs": [],
   "source": [
    "# Plot the training accuracy vs the number of epochs\n"
   ]
  },
  {
   "cell_type": "markdown",
   "metadata": {},
   "source": [
    "It seems like we could just keep on going and accuracy would go up!"
   ]
  },
  {
   "cell_type": "markdown",
   "metadata": {},
   "source": [
    "## Make predictions\n",
    "\n",
    "Finally, it's time to make predictions. Use the relevant method discussed in the previous lesson to output (probability) predictions for the test set."
   ]
  },
  {
   "cell_type": "code",
   "execution_count": 96,
   "metadata": {
    "ExecuteTime": {
     "end_time": "2020-05-20T04:53:56.854147Z",
     "start_time": "2020-05-20T04:53:56.765741Z"
    }
   },
   "outputs": [],
   "source": [
    "# Output (probability) predictions for the test set \n",
    "y_hat_test = model.predict(test)"
   ]
  },
  {
   "cell_type": "markdown",
   "metadata": {},
   "source": [
    "## Evaluate Performance\n",
    "\n",
    "Finally, print the loss and accuracy for both the train and test sets of the final trained model."
   ]
  },
  {
   "cell_type": "code",
   "execution_count": 97,
   "metadata": {
    "ExecuteTime": {
     "end_time": "2020-05-20T04:54:27.099853Z",
     "start_time": "2020-05-20T04:54:26.350180Z"
    }
   },
   "outputs": [
    {
     "name": "stdout",
     "output_type": "stream",
     "text": [
      "58500/58500 [==============================] - 1s 13us/step\n"
     ]
    },
    {
     "data": {
      "text/plain": [
       "[0.5417288736782522, 0.8124273419380188]"
      ]
     },
     "execution_count": 97,
     "metadata": {},
     "output_type": "execute_result"
    }
   ],
   "source": [
    "# Print the loss and accuracy for the training set \n",
    "results_train = model.evaluate(train,label_train)\n",
    "results_train"
   ]
  },
  {
   "cell_type": "code",
   "execution_count": 98,
   "metadata": {
    "ExecuteTime": {
     "end_time": "2020-05-20T04:54:34.185334Z",
     "start_time": "2020-05-20T04:54:34.151708Z"
    }
   },
   "outputs": [
    {
     "name": "stdout",
     "output_type": "stream",
     "text": [
      "1500/1500 [==============================] - 0s 18us/step\n"
     ]
    },
    {
     "data": {
      "text/plain": [
       "[0.21783364216486614, 0.9253333210945129]"
      ]
     },
     "execution_count": 98,
     "metadata": {},
     "output_type": "execute_result"
    }
   ],
   "source": [
    "# Print the loss and accuracy for the test set \n",
    "results_test = model.evaluate(test,label_test)\n",
    "results_test"
   ]
  },
  {
   "cell_type": "code",
   "execution_count": null,
   "metadata": {},
   "outputs": [],
   "source": []
  },
  {
   "cell_type": "markdown",
   "metadata": {},
   "source": [
    "We can see that the training set results are really good, but the test set results lag behind. We'll talk a little more about this in the next lesson, and discuss how we can get better test set results as well!\n",
    "\n",
    "\n",
    "## Additional Resources \n",
    "\n",
    "- https://github.com/susanli2016/Machine-Learning-with-Python/blob/master/Consumer_complaints.ipynb \n",
    "- https://catalog.data.gov/dataset/consumer-complaint-database \n",
    "\n",
    "## Summary \n",
    "\n",
    "Congratulations! In this lab, you built a neural network thanks to the tools provided by Keras! In upcoming lessons and labs we'll continue to investigate further ideas regarding how to tune and refine these models for increased accuracy and performance."
   ]
  }
 ],
 "metadata": {
  "kernelspec": {
   "display_name": "Python 3",
   "language": "python",
   "name": "python3"
  },
  "language_info": {
   "codemirror_mode": {
    "name": "ipython",
    "version": 3
   },
   "file_extension": ".py",
   "mimetype": "text/x-python",
   "name": "python",
   "nbconvert_exporter": "python",
   "pygments_lexer": "ipython3",
   "version": "3.6.9"
  },
  "toc": {
   "base_numbering": 1,
   "nav_menu": {},
   "number_sections": true,
   "sideBar": true,
   "skip_h1_title": false,
   "title_cell": "Table of Contents",
   "title_sidebar": "Contents",
   "toc_cell": false,
   "toc_position": {},
   "toc_section_display": true,
   "toc_window_display": false
  }
 },
 "nbformat": 4,
 "nbformat_minor": 2
}
